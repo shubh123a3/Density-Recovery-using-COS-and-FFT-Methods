{
 "cells": [
  {
   "cell_type": "markdown",
   "id": "d6711a16-039d-4146-bc6a-235aaa8e83ad",
   "metadata": {},
   "source": [
    "# Normal Density Recovery using Fast Fourier Transform (FFT)\n",
    "\n",
    "## Theory and Concept\n",
    "\n",
    "This notebook demonstrates the recovery of a probability density function (PDF) from its characteristic function using the Fast Fourier Transform (FFT) method. The specific example used here is the normal (Gaussian) distribution, but the method can be applied to other distributions as well.\n",
    "\n",
    "### Characteristic Function\n",
    "\n",
    "The characteristic function of a random variable $X$ is defined as:\n",
    "\n",
    "$\\phi_X(u) = E[e^{iuX}] = \\int_{-\\infty}^{\\infty} e^{iux} f_X(x) dx$\n",
    "\n",
    "where $f_X(x)$ is the probability density function of $X$.\n",
    "\n",
    "For a normal distribution with mean $\\mu$ and standard deviation $\\sigma$, the characteristic function is:\n",
    "\n",
    "$\\phi_X(u) = e^{iu\\mu - \\frac{1}{2}\\sigma^2u^2}$\n",
    "\n",
    "### Density Recovery\n",
    "\n",
    "To recover the density function from the characteristic function, we use the inverse Fourier transform:\n",
    "\n",
    "$f_X(x) = \\frac{1}{2\\pi} \\int_{-\\infty}^{\\infty} e^{-iux} \\phi_X(u) du$\n",
    "\n",
    "In practice, we approximate this integral using the discrete Fourier transform (DFT), which is efficiently computed using the Fast Fourier Transform (FFT) algorithm.\n",
    "\n",
    "## Implementation Steps\n",
    "\n",
    "1. **Define the grid**: Create a grid for both the frequency domain (u) and the spatial domain (x).\n",
    "2. **Compute the characteristic function**: Calculate $\\phi_X(u)$ for the given distribution.\n",
    "3. **Apply FFT**: Use the FFT algorithm to compute the inverse Fourier transform.\n",
    "4. **Post-processing**: Scale and interpolate the results to obtain the final density estimate.\n",
    "\n",
    "## Code Explanation\n",
    "\n",
    "Let's break down the `RecoveryDensity` function:\n"
   ]
  },
  {
   "cell_type": "code",
   "execution_count": 8,
   "id": "c1ddb5c7-92d0-4043-ade2-4e725a9822d5",
   "metadata": {},
   "outputs": [],
   "source": [
    "import numpy as np \n",
    "import matplotlib.pyplot as plt \n",
    "import scipy.stats as st\n",
    "import scipy.fft as fft\n",
    "import scipy.interpolate as interpolate"
   ]
  },
  {
   "cell_type": "code",
   "execution_count": 18,
   "id": "07d3dcef-acdc-411e-898c-3d9140bc4084",
   "metadata": {},
   "outputs": [],
   "source": [
    "def RecoveryDensity(cf,x,N=8192):\n",
    "    i=np.sqrt(-1)\n",
    "    #grid\n",
    "    u_max=20.0\n",
    "    du=u_max/N\n",
    "    u=np.linspace(0,N-1,N)*du\n",
    "    # GRID FOR X\n",
    "    b=np.min(x)\n",
    "    dx=2.0*np.pi/(N*du)\n",
    "    x_i=b+np.linspace(0,N-1,N)*dx\n",
    "    # shift varivale phi\n",
    "    phi=np.exp(-i*b*u)*cf(u)\n",
    "    #bondary value\n",
    "    gamma_1=np.exp(-i*x_i*u[0])*cf(u[0])\n",
    "    gamma_2=np.exp(-i*x_i*u[-1])*cf(u[-1])\n",
    "    phi_boundary = 0.5 * (gamma_1 + gamma_2)\n",
    "    # density calibation of fft\n",
    "    f_xi=du/np.pi*np.real(fft.fft(phi)-phi_boundary)\n",
    "    # interoplation of complete grid of xi onto grid x\n",
    "    f_xiInterp=interpolate.interp1d(x_i,f_xi,kind='cubic')\n",
    "    return f_xiInterp(x)\n",
    "    "
   ]
  },
  {
   "cell_type": "markdown",
   "id": "bcba301e-129a-4a54-a433-a687900c025b",
   "metadata": {},
   "source": [
    "\n",
    "### Key Steps:\n",
    "\n",
    "1. **Grid definition**: We create grids for both u and x. The u grid goes from 0 to u_max, while the x grid is centered around the desired output range.\n",
    "\n",
    "2. **Characteristic function calculation**: The input `cf` function is used to compute the characteristic function values.\n",
    "\n",
    "3. **Shifting**: We apply a shift to account for the minimum x value, which helps improve accuracy.\n",
    "\n",
    "4. **Boundary correction**: We compute boundary values to reduce edge effects in the FFT.\n",
    "\n",
    "5. **FFT application**: The core of the method, where we use `fft.fft` to compute the inverse Fourier transform.\n",
    "\n",
    "6. **Interpolation**: Finally, we interpolate the results onto the desired x grid.\n",
    "\n",
    "## Changing Parameters\n",
    "\n",
    "To modify the behavior of the density recovery, you can adjust the following parameters:\n",
    "\n",
    "1. **N**: Increase for higher resolution (but slower computation).\n",
    "2. **u_max**: Adjust the maximum frequency considered.\n",
    "3. **Interpolation method**: Change `kind='cubic'` to other options like 'linear' or 'quadratic'.\n",
    "\n",
    "In the `mainCalculator` function, you can modify:\n",
    "\n",
    "1. **mu** and **sigma**: Change these to alter the normal distribution parameters.\n",
    "2. **x range**: Modify the `np.linspace(-8.0, 8.0, 100)` to change the x-axis range and number of points.\n",
    "\n",
    "## Example\n"
   ]
  },
  {
   "cell_type": "code",
   "execution_count": 22,
   "id": "534a8730-5f0e-4cd7-a524-538f96e8884e",
   "metadata": {},
   "outputs": [
    {
     "name": "stderr",
     "output_type": "stream",
     "text": [
      "C:\\Users\\lenovo\\AppData\\Local\\Temp\\ipykernel_2636\\3849726949.py:2: RuntimeWarning: invalid value encountered in sqrt\n",
      "  i=np.sqrt(-1)#i=sqrt(-1)\n"
     ]
    },
    {
     "data": {
      "image/png": "[encoded data removed]",
      "text/plain": [
       "<Figure size 640x480 with 1 Axes>"
      ]
     },
     "metadata": {},
     "output_type": "display_data"
    }
   ],
   "source": [
    "def mainCalculator():\n",
    "    i=np.sqrt(-1)#i=sqrt(-1)\n",
    "    mu=1.0\n",
    "    sigma=1.0\n",
    "    # deifning caharateristic function of normal distribution \n",
    "    cF=lambda u: np.exp(i*mu*u-0.5*sigma**2.0*u**2.0)\n",
    "    x=np.linspace(-8.0,8.0,100)\n",
    "    f_XExact=st.norm.pdf(x,mu,sigma)\n",
    "    f_XR=RecoveryDensity(cF,x,2**8)\n",
    "    plt.figure(1)\n",
    "    plt.grid()\n",
    "    plt.xlabel(\"x\")\n",
    "    plt.ylabel(\"$f_X(x)$\")\n",
    "    plt.plot(x,f_XExact,'-r')\n",
    "    plt.plot(x,f_XR,'--b')\n",
    "mainCalculator()"
   ]
  },
  {
   "cell_type": "markdown",
   "id": "7b17a1d0-b495-44d7-8dec-ecc2a3af0f1b",
   "metadata": {},
   "source": [
    "\n",
    "This example demonstrates the recovery of a normal distribution with μ=1 and σ=1. You can modify these parameters to see how well the method works for different distributions."
   ]
  },
  {
   "cell_type": "code",
   "execution_count": null,
   "id": "ac4ec60f-6211-4adb-80ab-090c2b79113b",
   "metadata": {},
   "outputs": [],
   "source": []
  },
  {
   "cell_type": "markdown",
   "id": "a0bc398b",
   "metadata": {},
   "source": [
    "# Normal Density Recovery using Fast Fourier Transform (FFT)\n",
    "\n",
    "## Theory and Concept\n",
    "\n",
    "This notebook demonstrates the recovery of a probability density function (PDF) from its characteristic function using the Fast Fourier Transform (FFT) method. The specific example used here is the normal (Gaussian) distribution, but the method can be applied to other distributions as well.\n",
    "\n",
    "### Characteristic Function\n",
    "\n",
    "The characteristic function of a random variable $X$ is defined as:\n",
    "\n",
    "$\\phi_X(u) = E[e^{iuX}] = \\int_{-\\infty}^{\\infty} e^{iux} f_X(x) dx$\n",
    "\n",
    "where $f_X(x)$ is the probability density function of $X$.\n",
    "\n",
    "For a normal distribution with mean $\\mu$ and standard deviation $\\sigma$, the characteristic function is:\n",
    "\n",
    "$\\phi_X(u) = e^{iu\\mu - \\frac{1}{2}\\sigma^2u^2}$\n",
    "\n",
    "### Density Recovery\n",
    "\n",
    "To recover the density function from the characteristic function, we use the inverse Fourier transform:\n",
    "\n",
    "$f_X(x) = \\frac{1}{2\\pi} \\int_{-\\infty}^{\\infty} e^{-iux} \\phi_X(u) du$\n",
    "\n",
    "In practice, we approximate this integral using the discrete Fourier transform (DFT), which is efficiently computed using the Fast Fourier Transform (FFT) algorithm.\n",
    "\n",
    "## Implementation Steps\n",
    "\n",
    "1. **Define the grid**: Create a grid for both the frequency domain (u) and the spatial domain (x).\n",
    "2. **Compute the characteristic function**: Calculate $\\phi_X(u)$ for the given distribution.\n",
    "3. **Apply FFT**: Use the FFT algorithm to compute the inverse Fourier transform.\n",
    "4. **Post-processing**: Scale and interpolate the results to obtain the final density estimate.\n",
    "\n",
    "## Code Explanation\n",
    "\n",
    "Let's break down the `RecoveryDensity` function:\n"
   ]
  },
  {
   "cell_type": "code",
   "execution_count": 8,
   "id": "04409893",
   "metadata": {},
   "outputs": [],
   "source": [
    "import numpy as np \n",
    "import matplotlib.pyplot as plt \n",
    "import scipy.stats as st\n",
    "import scipy.fft as fft\n",
    "import scipy.interpolate as interpolate"
   ]
  },
  {
   "cell_type": "code",
   "execution_count": 18,
   "id": "57598b6b",
   "metadata": {},
   "outputs": [],
   "source": [
    "def RecoveryDensity(cf,x,N=8192):\n",
    "    i=np.sqrt(-1)\n",
    "    #grid\n",
    "    u_max=20.0\n",
    "    du=u_max/N\n",
    "    u=np.linspace(0,N-1,N)*du\n",
    "    # GRID FOR X\n",
    "    b=np.min(x)\n",
    "    dx=2.0*np.pi/(N*du)\n",
    "    x_i=b+np.linspace(0,N-1,N)*dx\n",
    "    # shift varivale phi\n",
    "    phi=np.exp(-i*b*u)*cf(u)\n",
    "    #bondary value\n",
    "    gamma_1=np.exp(-i*x_i*u[0])*cf(u[0])\n",
    "    gamma_2=np.exp(-i*x_i*u[-1])*cf(u[-1])\n",
    "    phi_boundary = 0.5 * (gamma_1 + gamma_2)\n",
    "    # density calibation of fft\n",
    "    f_xi=du/np.pi*np.real(fft.fft(phi)-phi_boundary)\n",
    "    # interoplation of complete grid of xi onto grid x\n",
    "    f_xiInterp=interpolate.interp1d(x_i,f_xi,kind='cubic')\n",
    "    return f_xiInterp(x)\n",
    "    "
   ]
  },
  {
   "cell_type": "markdown",
   "id": "0ccaa703",
   "metadata": {},
   "source": [
    "\n",
    "### Key Steps:\n",
    "\n",
    "1. **Grid definition**: We create grids for both u and x. The u grid goes from 0 to u_max, while the x grid is centered around the desired output range.\n",
    "\n",
    "2. **Characteristic function calculation**: The input `cf` function is used to compute the characteristic function values.\n",
    "\n",
    "3. **Shifting**: We apply a shift to account for the minimum x value, which helps improve accuracy.\n",
    "\n",
    "4. **Boundary correction**: We compute boundary values to reduce edge effects in the FFT.\n",
    "\n",
    "5. **FFT application**: The core of the method, where we use `fft.fft` to compute the inverse Fourier transform.\n",
    "\n",
    "6. **Interpolation**: Finally, we interpolate the results onto the desired x grid.\n",
    "\n",
    "## Changing Parameters\n",
    "\n",
    "To modify the behavior of the density recovery, you can adjust the following parameters:\n",
    "\n",
    "1. **N**: Increase for higher resolution (but slower computation).\n",
    "2. **u_max**: Adjust the maximum frequency considered.\n",
    "3. **Interpolation method**: Change `kind='cubic'` to other options like 'linear' or 'quadratic'.\n",
    "\n",
    "In the `mainCalculator` function, you can modify:\n",
    "\n",
    "1. **mu** and **sigma**: Change these to alter the normal distribution parameters.\n",
    "2. **x range**: Modify the `np.linspace(-8.0, 8.0, 100)` to change the x-axis range and number of points.\n",
    "\n",
    "## Example\n"
   ]
  },
  {
   "cell_type": "code",
   "execution_count": 22,
   "id": "759cd9bf",
   "metadata": {},
   "outputs": [
    {
     "name": "stderr",
     "output_type": "stream",
     "text": [
      "C:\\Users\\lenovo\\AppData\\Local\\Temp\\ipykernel_2636\\3849726949.py:2: RuntimeWarning: invalid value encountered in sqrt\n",
      "  i=np.sqrt(-1)#i=sqrt(-1)\n"
     ]
    },
    {
     "data": {
      "image/png": "[encoded data removed]",
      "text/plain": [
       "<Figure size 640x480 with 1 Axes>"
      ]
     },
     "metadata": {},
     "output_type": "display_data"
    }
   ],
   "source": [
    "def mainCalculator():\n",
    "    i=np.sqrt(-1)#i=sqrt(-1)\n",
    "    mu=1.0\n",
    "    sigma=1.0\n",
    "    # deifning caharateristic function of normal distribution \n",
    "    cF=lambda u: np.exp(i*mu*u-0.5*sigma**2.0*u**2.0)\n",
    "    x=np.linspace(-8.0,8.0,100)\n",
    "    f_XExact=st.norm.pdf(x,mu,sigma)\n",
    "    f_XR=RecoveryDensity(cF,x,2**8)\n",
    "    plt.figure(1)\n",
    "    plt.grid()\n",
    "    plt.xlabel(\"x\")\n",
    "    plt.ylabel(\"$f_X(x)$\")\n",
    "    plt.plot(x,f_XExact,'-r')\n",
    "    plt.plot(x,f_XR,'--b')\n",
    "mainCalculator()"
   ]
  },
  {
   "cell_type": "markdown",
   "id": "a940f11a",
   "metadata": {},
   "source": [
    "\n",
    "This example demonstrates the recovery of a normal distribution with μ=1 and σ=1. You can modify these parameters to see how well the method works for different distributions."
   ]
  },
  {
   "cell_type": "code",
   "execution_count": null,
   "id": "cae2b57f",
   "metadata": {},
   "outputs": [],
   "source": []
  }
 ],
 "metadata": {
  "kernelspec": {
   "display_name": "Python 3 (ipykernel)",
   "language": "python",
   "name": "python3"
  },
  "language_info": {
   "codemirror_mode": {
    "name": "ipython",
    "version": 3
   },
   "file_extension": ".py",
   "mimetype": "text/x-python",
   "name": "python",
   "nbconvert_exporter": "python",
   "pygments_lexer": "ipython3",
   "version": "3.11.7"
  }
 },
 "nbformat": 4,
 "nbformat_minor": 5
}
